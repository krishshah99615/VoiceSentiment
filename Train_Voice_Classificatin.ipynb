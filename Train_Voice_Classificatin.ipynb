{
  "nbformat": 4,
  "nbformat_minor": 0,
  "metadata": {
    "colab": {
      "name": "Train Voice Classificatin.ipynb",
      "provenance": [],
      "collapsed_sections": []
    },
    "kernelspec": {
      "name": "python3",
      "display_name": "Python 3"
    }
  },
  "cells": [
    {
      "cell_type": "markdown",
      "metadata": {
        "id": "b6qPfuiqteMF"
      },
      "source": [
        "# Training Voice Classification Model"
      ]
    },
    {
      "cell_type": "markdown",
      "metadata": {
        "id": "AcvP_xdxtjeU"
      },
      "source": [
        "## Load dataset from drive"
      ]
    },
    {
      "cell_type": "code",
      "metadata": {
        "id": "0ofzKTRRri0Z"
      },
      "source": [
        "!cp '/content/drive/MyDrive/Copy of Dataset.zip' '/content/'"
      ],
      "execution_count": null,
      "outputs": []
    },
    {
      "cell_type": "code",
      "metadata": {
        "id": "Lqp6s9vsr_Jk"
      },
      "source": [
        "!unzip '/content/Copy of Dataset.zip'"
      ],
      "execution_count": null,
      "outputs": []
    },
    {
      "cell_type": "markdown",
      "metadata": {
        "id": "VMW0nf0Stn-G"
      },
      "source": [
        "## Install Require Dependencies"
      ]
    },
    {
      "cell_type": "code",
      "metadata": {
        "id": "8SU8J2hIsR_L"
      },
      "source": [
        "!pip install soundfile"
      ],
      "execution_count": null,
      "outputs": []
    },
    {
      "cell_type": "markdown",
      "metadata": {
        "id": "IgUXGGSstrA2"
      },
      "source": [
        "## Load Libraries"
      ]
    },
    {
      "cell_type": "code",
      "metadata": {
        "id": "iO5dDzbosHma"
      },
      "source": [
        "import librosa\r\n",
        "import soundfile\r\n",
        "import os, glob, pickle\r\n",
        "import numpy as np\r\n",
        "from sklearn.model_selection import train_test_split\r\n",
        "from sklearn.neural_network import MLPClassifier\r\n",
        "from sklearn.metrics import accuracy_score"
      ],
      "execution_count": null,
      "outputs": []
    },
    {
      "cell_type": "markdown",
      "metadata": {
        "id": "Bp982Xlutu6Y"
      },
      "source": [
        "## Extract features (mfcc, chroma, mel) from a sound file"
      ]
    },
    {
      "cell_type": "code",
      "metadata": {
        "id": "UHNQXh-EsM5D"
      },
      "source": [
        "def extract_feature(file_name, mfcc, chroma, mel):\r\n",
        "    with soundfile.SoundFile(file_name) as sound_file:\r\n",
        "        X = sound_file.read(dtype=\"float32\")\r\n",
        "        sample_rate=sound_file.samplerate\r\n",
        "        if chroma:\r\n",
        "            stft=np.abs(librosa.stft(X))\r\n",
        "        result=np.array([])\r\n",
        "        if mfcc:\r\n",
        "            mfccs=np.mean(librosa.feature.mfcc(y=X, sr=sample_rate, n_mfcc=40).T, axis=0)\r\n",
        "            result=np.hstack((result, mfccs))\r\n",
        "        if chroma:\r\n",
        "            chroma=np.mean(librosa.feature.chroma_stft(S=stft, sr=sample_rate).T,axis=0)\r\n",
        "            result=np.hstack((result, chroma))\r\n",
        "        if mel:\r\n",
        "            mel=np.mean(librosa.feature.melspectrogram(X, sr=sample_rate).T,axis=0)\r\n",
        "            result=np.hstack((result, mel))\r\n",
        "    return result"
      ],
      "execution_count": null,
      "outputs": []
    },
    {
      "cell_type": "markdown",
      "metadata": {
        "id": "o2qn7_dgtyN2"
      },
      "source": [
        "## Emotions in the RAVDESS dataset to a key value pair"
      ]
    },
    {
      "cell_type": "code",
      "metadata": {
        "id": "x61L8AbRsd3h"
      },
      "source": [
        "emotions={\r\n",
        "  '01':'neutral',\r\n",
        "  '02':'calm',\r\n",
        "  '03':'happy',\r\n",
        "  '04':'sad',\r\n",
        "  '05':'angry',\r\n",
        "  '06':'fearful',\r\n",
        "  '07':'disgust',\r\n",
        "  '08':'surprised'\r\n",
        "}\r\n",
        "#Emotions to observe\r\n",
        "observed_emotions=['calm', 'happy', 'fearful', 'disgust']"
      ],
      "execution_count": 20,
      "outputs": []
    },
    {
      "cell_type": "markdown",
      "metadata": {
        "id": "TwOHmtlFt6kf"
      },
      "source": [
        "## Load the data and extract features for each sound file"
      ]
    },
    {
      "cell_type": "code",
      "metadata": {
        "id": "bAMQn54vsmBT"
      },
      "source": [
        "def load_data(test_size=0.2):\r\n",
        "    x,y=[],[]\r\n",
        "    for file in glob.glob(\"Dataset/Actor_*/*.wav\"):\r\n",
        "        file_name=os.path.basename(file)\r\n",
        "        emotion=emotions[file_name.split(\"-\")[2]]\r\n",
        "        if emotion not in observed_emotions:\r\n",
        "            continue\r\n",
        "        feature=extract_feature(file, mfcc=True, chroma=True, mel=True)\r\n",
        "        x.append(feature)\r\n",
        "        y.append(emotion)\r\n",
        "    return train_test_split(np.array(x), y, test_size=test_size, random_state=9)"
      ],
      "execution_count": null,
      "outputs": []
    },
    {
      "cell_type": "markdown",
      "metadata": {
        "id": "SPPP81FQt8Nn"
      },
      "source": [
        "## Train Test Split Dataset"
      ]
    },
    {
      "cell_type": "code",
      "metadata": {
        "id": "NIqvckEcsqqi",
        "colab": {
          "base_uri": "https://localhost:8080/"
        },
        "outputId": "5197b4d1-dea2-40fe-de9f-6b653bbd69a5"
      },
      "source": [
        "x_train,x_test,y_train,y_test=load_data(test_size=0.25)\r\n",
        "print('shape of the training and testing datasets',(x_train.shape[0], x_test.shape[0]))\r\n",
        "print(f'Features extracted: {x_train.shape[1]}')"
      ],
      "execution_count": 21,
      "outputs": [
        {
          "output_type": "stream",
          "text": [
            "shape of the training and testing datasets (576, 192)\n"
          ],
          "name": "stdout"
        }
      ]
    },
    {
      "cell_type": "markdown",
      "metadata": {
        "id": "uHpDetx5uJ2h"
      },
      "source": [
        "## Initialize model params"
      ]
    },
    {
      "cell_type": "code",
      "metadata": {
        "id": "9SZNrCHhs98a"
      },
      "source": [
        "model=MLPClassifier(alpha=0.01, batch_size=256, epsilon=1e-08, hidden_layer_sizes=(300,), learning_rate='adaptive', max_iter=500)"
      ],
      "execution_count": null,
      "outputs": []
    },
    {
      "cell_type": "markdown",
      "metadata": {
        "id": "NW2z2RoJuO_Y"
      },
      "source": [
        "## Train the model"
      ]
    },
    {
      "cell_type": "code",
      "metadata": {
        "colab": {
          "base_uri": "https://localhost:8080/"
        },
        "id": "8_Z4rXCftBHy",
        "outputId": "54024c66-07bc-42d6-fd32-b04da46d7ec2"
      },
      "source": [
        " model.fit(x_train,y_train)"
      ],
      "execution_count": null,
      "outputs": [
        {
          "output_type": "execute_result",
          "data": {
            "text/plain": [
              "MLPClassifier(activation='relu', alpha=0.01, batch_size=256, beta_1=0.9,\n",
              "              beta_2=0.999, early_stopping=False, epsilon=1e-08,\n",
              "              hidden_layer_sizes=(300,), learning_rate='adaptive',\n",
              "              learning_rate_init=0.001, max_fun=15000, max_iter=500,\n",
              "              momentum=0.9, n_iter_no_change=10, nesterovs_momentum=True,\n",
              "              power_t=0.5, random_state=None, shuffle=True, solver='adam',\n",
              "              tol=0.0001, validation_fraction=0.1, verbose=False,\n",
              "              warm_start=False)"
            ]
          },
          "metadata": {
            "tags": []
          },
          "execution_count": 17
        }
      ]
    },
    {
      "cell_type": "markdown",
      "metadata": {
        "id": "wrGd00iwuTpO"
      },
      "source": [
        "##  Predict for the test set and Evaluate"
      ]
    },
    {
      "cell_type": "code",
      "metadata": {
        "id": "Fz6iRb61tEtq"
      },
      "source": [
        "y_pred=model.predict(x_test)\r\n",
        "accuracy=accuracy_score(y_true=y_test, y_pred=y_pred)\r\n",
        "print(\"Accuracy: {:.2f}%\".format(accuracy*100))"
      ],
      "execution_count": null,
      "outputs": []
    },
    {
      "cell_type": "markdown",
      "metadata": {
        "id": "QX4ZYeW-un6a"
      },
      "source": [
        "## Save the model"
      ]
    },
    {
      "cell_type": "code",
      "metadata": {
        "id": "t5z3DZNLujgi"
      },
      "source": [
        "import pickle as pk\r\n",
        "with open('model.pk', 'wb') as fh:\r\n",
        "   pickle.dump(model, fh)"
      ],
      "execution_count": 23,
      "outputs": []
    },
    {
      "cell_type": "code",
      "metadata": {
        "id": "Y__9Lbwqu6wZ"
      },
      "source": [
        ""
      ],
      "execution_count": null,
      "outputs": []
    }
  ]
}